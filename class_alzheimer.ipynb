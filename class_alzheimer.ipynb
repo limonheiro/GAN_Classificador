{
  "cells": [
    {
      "cell_type": "markdown",
      "metadata": {
        "id": "view-in-github",
        "colab_type": "text"
      },
      "source": [
        "<a href=\"https://colab.research.google.com/github/limonheiro/GAN_Classificador/blob/main/class_alzheimer.ipynb\" target=\"_parent\"><img src=\"https://colab.research.google.com/assets/colab-badge.svg\" alt=\"Open In Colab\"/></a>"
      ]
    },
    {
      "cell_type": "code",
      "execution_count": 1,
      "metadata": {
        "colab": {
          "base_uri": "https://localhost:8080/"
        },
        "id": "-SD8ENYlyndf",
        "outputId": "5de53a47-2c3d-458d-b1fc-0a9a4c5961a8"
      },
      "outputs": [
        {
          "output_type": "stream",
          "name": "stdout",
          "text": [
            "GPU 0: Tesla T4 (UUID: GPU-f2eac069-d2a7-d5c5-34af-446a1f48a4d6)\n"
          ]
        }
      ],
      "source": [
        "!nvidia-smi -L"
      ]
    },
    {
      "cell_type": "code",
      "execution_count": 2,
      "metadata": {
        "id": "3Tr_8DWuemAj"
      },
      "outputs": [],
      "source": [
        "import tensorflow as tf\n",
        "import numpy as np\n",
        "from tensorflow.keras.utils import  image_dataset_from_directory\n",
        "from tensorflow.keras.optimizers import Adam\n",
        "from tensorflow.keras.layers import Dense, BatchNormalization, LeakyReLU, Softmax\n",
        "from tensorflow.keras.models import Sequential\n",
        "\n",
        "import os\n",
        "import pathlib\n",
        "import time\n",
        "import datetime\n",
        "\n",
        "from matplotlib import pyplot as plt\n",
        "from IPython import display\n",
        "\n",
        "batch_size=16"
      ]
    },
    {
      "cell_type": "markdown",
      "metadata": {
        "id": "XaGEJkXbeZyL"
      },
      "source": [
        "# Carregando as imagens"
      ]
    },
    {
      "cell_type": "code",
      "execution_count": 3,
      "metadata": {
        "colab": {
          "base_uri": "https://localhost:8080/"
        },
        "id": "4YwcEg73fK78",
        "outputId": "64f6040f-dc9a-4e11-83e7-2481f922684b"
      },
      "outputs": [
        {
          "output_type": "stream",
          "name": "stdout",
          "text": [
            "--2022-04-24 22:54:13--  https://github.com/limonheiro/GAN_Classificador/raw/main/alzheimer.zip\n",
            "Resolving github.com (github.com)... 140.82.112.3\n",
            "Connecting to github.com (github.com)|140.82.112.3|:443... connected.\n",
            "HTTP request sent, awaiting response... 302 Found\n",
            "Location: https://raw.githubusercontent.com/limonheiro/GAN_Classificador/main/alzheimer.zip [following]\n",
            "--2022-04-24 22:54:13--  https://raw.githubusercontent.com/limonheiro/GAN_Classificador/main/alzheimer.zip\n",
            "Resolving raw.githubusercontent.com (raw.githubusercontent.com)... 185.199.108.133, 185.199.111.133, 185.199.110.133, ...\n",
            "Connecting to raw.githubusercontent.com (raw.githubusercontent.com)|185.199.108.133|:443... connected.\n",
            "HTTP request sent, awaiting response... 200 OK\n",
            "Length: 29365000 (28M) [application/zip]\n",
            "Saving to: ‘alzheimer.zip’\n",
            "\n",
            "alzheimer.zip       100%[===================>]  28.00M  99.1MB/s    in 0.3s    \n",
            "\n",
            "2022-04-24 22:54:14 (99.1 MB/s) - ‘alzheimer.zip’ saved [29365000/29365000]\n",
            "\n"
          ]
        }
      ],
      "source": [
        "#https://www.kaggle.com/code/theyazilimci/alzheimer-prediction-92-acc/notebook\n",
        "#https://www.kaggle.com/datasets/sachinkumar413/alzheimer-mri-dataset\n",
        "\n",
        "!wget  \"https://github.com/limonheiro/GAN_Classificador/raw/main/alzheimer.zip\""
      ]
    },
    {
      "cell_type": "code",
      "execution_count": 4,
      "metadata": {
        "id": "USLKn--tgPbT"
      },
      "outputs": [],
      "source": [
        "!unzip -q \"alzheimer.zip\""
      ]
    },
    {
      "cell_type": "code",
      "execution_count": 5,
      "metadata": {
        "id": "0EXcOLIbeuk_"
      },
      "outputs": [],
      "source": [
        "DEFAULT_PATH = \"/content/Dataset\""
      ]
    },
    {
      "cell_type": "code",
      "execution_count": 6,
      "metadata": {
        "id": "KYan6RE0lBbO"
      },
      "outputs": [],
      "source": [
        "from os import listdir\n",
        "from os.path import join, isdir\n",
        "class_name = np.array([f for f in listdir(DEFAULT_PATH) if isdir(join(DEFAULT_PATH, f))])\n",
        "n_classes = len(class_name)"
      ]
    },
    {
      "cell_type": "code",
      "execution_count": 7,
      "metadata": {
        "id": "ytVkAfcwu_DC"
      },
      "outputs": [],
      "source": [
        "img_height=img_width=128"
      ]
    },
    {
      "cell_type": "code",
      "execution_count": 8,
      "metadata": {
        "colab": {
          "base_uri": "https://localhost:8080/"
        },
        "id": "ALUKmviuOWUY",
        "outputId": "cb6d6f96-6fe4-4521-be59-0116cc636300"
      },
      "outputs": [
        {
          "output_type": "stream",
          "name": "stdout",
          "text": [
            "Found 6400 files belonging to 4 classes.\n",
            "Using 5120 files for training.\n",
            "Found 6400 files belonging to 4 classes.\n",
            "Using 1280 files for validation.\n"
          ]
        }
      ],
      "source": [
        "train_data = image_dataset_from_directory(\n",
        "                  DEFAULT_PATH,\n",
        "                  validation_split=0.2,\n",
        "                  subset=\"training\",\n",
        "                  seed=123,\n",
        "                  color_mode='rgb',\n",
        "                  interpolation=\"nearest\",\n",
        "                  follow_links=False,\n",
        "                  image_size=(img_height, img_width),\n",
        "                  batch_size=batch_size)\n",
        "\n",
        "\n",
        "val_data = image_dataset_from_directory(DEFAULT_PATH,\n",
        "                                        validation_split=0.2,\n",
        "                                        subset=\"validation\", \n",
        "                                        seed=123,\n",
        "                                        color_mode=\"rgb\",\n",
        "                                        interpolation=\"nearest\",\n",
        "                                        follow_links=False,\n",
        "                                        image_size=(img_height, img_width),\n",
        "                                        batch_size=batch_size)"
      ]
    },
    {
      "cell_type": "code",
      "source": [
        "# def process(image,label):\n",
        "#     image = tf.cast(tf.cast(image, tf.float32)/255.0 ,tf.float32)\n",
        "#     return image,label\n",
        "\n",
        "# train_data = train_data.map(process)\n",
        "# val_data = val_data.map(process)"
      ],
      "metadata": {
        "id": "0lwWlFLkb7N5"
      },
      "execution_count": 9,
      "outputs": []
    },
    {
      "cell_type": "code",
      "execution_count": 10,
      "metadata": {
        "colab": {
          "base_uri": "https://localhost:8080/"
        },
        "id": "mGKvoaiomtLs",
        "outputId": "7886ddae-1074-4fd3-b8cb-dc2912b07e9f"
      },
      "outputs": [
        {
          "output_type": "stream",
          "name": "stdout",
          "text": [
            "Downloading data from https://storage.googleapis.com/keras-applications/efficientnetb1_notop.h5\n",
            "27025408/27018416 [==============================] - 0s 0us/step\n",
            "27033600/27018416 [==============================] - 0s 0us/step\n"
          ]
        }
      ],
      "source": [
        "from tensorflow.keras.applications.efficientnet import EfficientNetB1, preprocess_input\n",
        " \n",
        "backbone = EfficientNetB1(include_top = False,\n",
        "                          input_shape = (128, 128, 3),\n",
        "                          pooling = 'avg')"
      ]
    },
    {
      "cell_type": "code",
      "execution_count": 11,
      "metadata": {
        "id": "IC0zp_MQt0AL"
      },
      "outputs": [],
      "source": [
        "dense_count = 32\n",
        " \n",
        "model = Sequential()\n",
        "model.add(backbone)\n",
        " \n",
        "model.add(Dense(dense_count))\n",
        "model.add(LeakyReLU())\n",
        "model.add(BatchNormalization())\n",
        " \n",
        "model.add(Dense(n_classes))\n",
        "model.add(Softmax())"
      ]
    },
    {
      "cell_type": "code",
      "execution_count": 12,
      "metadata": {
        "id": "JFH1mJg7uEj_"
      },
      "outputs": [],
      "source": [
        "model.compile(optimizer=Adam(learning_rate=0.001),\n",
        "            loss=tf.keras.losses.SparseCategoricalCrossentropy(),\n",
        "            metrics=[\"accuracy\"])"
      ]
    },
    {
      "cell_type": "code",
      "execution_count": 13,
      "metadata": {
        "colab": {
          "base_uri": "https://localhost:8080/"
        },
        "id": "YIfX9CxOusky",
        "outputId": "098ec1b8-07fe-4bce-e29b-8112f113fe65"
      },
      "outputs": [
        {
          "output_type": "stream",
          "name": "stdout",
          "text": [
            "Epoch 1/200\n",
            "320/320 [==============================] - 57s 106ms/step - loss: 1.0304 - accuracy: 0.5971 - val_loss: 0.8867 - val_accuracy: 0.6336\n",
            "Epoch 2/200\n",
            "320/320 [==============================] - 31s 98ms/step - loss: 0.5962 - accuracy: 0.7709 - val_loss: 0.7762 - val_accuracy: 0.7547\n",
            "Epoch 3/200\n",
            "320/320 [==============================] - 32s 98ms/step - loss: 0.3752 - accuracy: 0.8625 - val_loss: 0.3069 - val_accuracy: 0.8813\n",
            "Epoch 4/200\n",
            "320/320 [==============================] - 32s 98ms/step - loss: 0.2539 - accuracy: 0.9100 - val_loss: 0.2774 - val_accuracy: 0.8883\n",
            "Epoch 5/200\n",
            "320/320 [==============================] - 32s 98ms/step - loss: 0.1599 - accuracy: 0.9471 - val_loss: 0.2463 - val_accuracy: 0.9219\n",
            "Epoch 6/200\n",
            "320/320 [==============================] - 32s 98ms/step - loss: 0.1570 - accuracy: 0.9465 - val_loss: 0.5085 - val_accuracy: 0.8508\n",
            "Epoch 7/200\n",
            "320/320 [==============================] - 32s 99ms/step - loss: 0.1265 - accuracy: 0.9576 - val_loss: 0.2779 - val_accuracy: 0.8961\n",
            "Epoch 8/200\n",
            "320/320 [==============================] - 32s 99ms/step - loss: 0.0837 - accuracy: 0.9707 - val_loss: 0.1366 - val_accuracy: 0.9578\n",
            "Epoch 9/200\n",
            "320/320 [==============================] - 32s 99ms/step - loss: 0.0973 - accuracy: 0.9670 - val_loss: 0.5462 - val_accuracy: 0.8180\n",
            "Epoch 10/200\n",
            "320/320 [==============================] - 32s 99ms/step - loss: 0.0979 - accuracy: 0.9682 - val_loss: 0.3591 - val_accuracy: 0.8922\n",
            "Epoch 11/200\n",
            "320/320 [==============================] - 32s 99ms/step - loss: 0.0614 - accuracy: 0.9816 - val_loss: 0.0857 - val_accuracy: 0.9727\n",
            "Epoch 12/200\n",
            "320/320 [==============================] - 32s 99ms/step - loss: 0.0410 - accuracy: 0.9873 - val_loss: 0.0816 - val_accuracy: 0.9789\n",
            "Epoch 13/200\n",
            "320/320 [==============================] - 32s 99ms/step - loss: 0.0590 - accuracy: 0.9805 - val_loss: 0.3109 - val_accuracy: 0.9125\n",
            "Epoch 14/200\n",
            "320/320 [==============================] - 32s 99ms/step - loss: 0.0656 - accuracy: 0.9766 - val_loss: 0.1005 - val_accuracy: 0.9648\n",
            "Epoch 15/200\n",
            "320/320 [==============================] - 32s 99ms/step - loss: 0.0488 - accuracy: 0.9840 - val_loss: 0.4425 - val_accuracy: 0.8680\n",
            "Epoch 16/200\n",
            "320/320 [==============================] - 32s 100ms/step - loss: 0.0629 - accuracy: 0.9803 - val_loss: 0.2279 - val_accuracy: 0.9258\n",
            "Epoch 17/200\n",
            "320/320 [==============================] - 32s 100ms/step - loss: 0.0604 - accuracy: 0.9789 - val_loss: 0.1125 - val_accuracy: 0.9625\n",
            "Epoch 18/200\n",
            "320/320 [==============================] - 32s 99ms/step - loss: 0.0951 - accuracy: 0.9736 - val_loss: 0.0936 - val_accuracy: 0.9688\n",
            "Epoch 19/200\n",
            "320/320 [==============================] - 32s 100ms/step - loss: 0.0243 - accuracy: 0.9924 - val_loss: 0.0756 - val_accuracy: 0.9688\n",
            "Epoch 20/200\n",
            "320/320 [==============================] - 32s 99ms/step - loss: 0.0279 - accuracy: 0.9922 - val_loss: 0.4301 - val_accuracy: 0.8633\n",
            "Epoch 21/200\n",
            "320/320 [==============================] - 32s 100ms/step - loss: 0.0475 - accuracy: 0.9840 - val_loss: 0.1421 - val_accuracy: 0.9516\n",
            "Epoch 22/200\n",
            "320/320 [==============================] - 32s 100ms/step - loss: 0.0250 - accuracy: 0.9924 - val_loss: 0.0663 - val_accuracy: 0.9758\n",
            "Epoch 23/200\n",
            "320/320 [==============================] - 32s 99ms/step - loss: 0.0523 - accuracy: 0.9834 - val_loss: 0.1278 - val_accuracy: 0.9633\n",
            "Epoch 24/200\n",
            "320/320 [==============================] - 32s 100ms/step - loss: 0.0096 - accuracy: 0.9969 - val_loss: 0.0307 - val_accuracy: 0.9906\n",
            "Epoch 25/200\n",
            "320/320 [==============================] - 32s 100ms/step - loss: 0.0322 - accuracy: 0.9879 - val_loss: 0.1815 - val_accuracy: 0.9406\n",
            "Epoch 26/200\n",
            "320/320 [==============================] - 32s 100ms/step - loss: 0.0939 - accuracy: 0.9703 - val_loss: 0.2874 - val_accuracy: 0.9250\n",
            "Epoch 27/200\n",
            "320/320 [==============================] - 32s 100ms/step - loss: 0.0263 - accuracy: 0.9922 - val_loss: 0.0435 - val_accuracy: 0.9867\n",
            "Epoch 28/200\n",
            "320/320 [==============================] - 32s 100ms/step - loss: 0.0062 - accuracy: 0.9982 - val_loss: 0.0937 - val_accuracy: 0.9695\n",
            "Epoch 29/200\n",
            "320/320 [==============================] - 32s 99ms/step - loss: 0.0199 - accuracy: 0.9945 - val_loss: 0.0670 - val_accuracy: 0.9797\n",
            "Epoch 30/200\n",
            "320/320 [==============================] - 32s 100ms/step - loss: 0.0729 - accuracy: 0.9775 - val_loss: 0.0589 - val_accuracy: 0.9766\n",
            "Epoch 31/200\n",
            "320/320 [==============================] - 32s 100ms/step - loss: 0.0120 - accuracy: 0.9963 - val_loss: 0.0566 - val_accuracy: 0.9797\n",
            "Epoch 32/200\n",
            "320/320 [==============================] - 32s 100ms/step - loss: 0.0303 - accuracy: 0.9914 - val_loss: 0.0762 - val_accuracy: 0.9789\n",
            "Epoch 33/200\n",
            "320/320 [==============================] - 32s 100ms/step - loss: 0.0136 - accuracy: 0.9957 - val_loss: 0.1076 - val_accuracy: 0.9680\n",
            "Epoch 34/200\n",
            "320/320 [==============================] - 32s 99ms/step - loss: 0.0335 - accuracy: 0.9906 - val_loss: 0.0953 - val_accuracy: 0.9672\n",
            "Epoch 35/200\n",
            "320/320 [==============================] - 32s 100ms/step - loss: 0.0189 - accuracy: 0.9926 - val_loss: 0.2116 - val_accuracy: 0.9367\n",
            "Epoch 36/200\n",
            "320/320 [==============================] - 32s 100ms/step - loss: 0.0360 - accuracy: 0.9883 - val_loss: 0.1722 - val_accuracy: 0.9484\n",
            "Epoch 37/200\n",
            "320/320 [==============================] - 32s 100ms/step - loss: 0.0215 - accuracy: 0.9936 - val_loss: 0.0459 - val_accuracy: 0.9852\n",
            "Epoch 38/200\n",
            "320/320 [==============================] - 32s 100ms/step - loss: 0.0048 - accuracy: 0.9988 - val_loss: 0.0756 - val_accuracy: 0.9773\n",
            "Epoch 39/200\n",
            "320/320 [==============================] - 32s 100ms/step - loss: 0.0233 - accuracy: 0.9932 - val_loss: 0.1420 - val_accuracy: 0.9570\n",
            "Epoch 40/200\n",
            "320/320 [==============================] - 32s 100ms/step - loss: 0.0200 - accuracy: 0.9943 - val_loss: 0.1751 - val_accuracy: 0.9367\n",
            "Epoch 41/200\n",
            "320/320 [==============================] - 32s 100ms/step - loss: 0.0389 - accuracy: 0.9877 - val_loss: 0.1379 - val_accuracy: 0.9617\n",
            "Epoch 42/200\n",
            "320/320 [==============================] - 32s 100ms/step - loss: 0.0245 - accuracy: 0.9922 - val_loss: 0.1682 - val_accuracy: 0.9391\n",
            "Epoch 43/200\n",
            "320/320 [==============================] - 32s 100ms/step - loss: 0.0252 - accuracy: 0.9910 - val_loss: 0.0662 - val_accuracy: 0.9781\n",
            "Epoch 44/200\n",
            "320/320 [==============================] - 32s 100ms/step - loss: 0.0148 - accuracy: 0.9949 - val_loss: 0.1442 - val_accuracy: 0.9602\n",
            "Epoch 45/200\n",
            "320/320 [==============================] - 32s 99ms/step - loss: 0.0161 - accuracy: 0.9949 - val_loss: 0.0673 - val_accuracy: 0.9859\n",
            "Epoch 46/200\n",
            "320/320 [==============================] - 32s 99ms/step - loss: 0.0056 - accuracy: 0.9980 - val_loss: 0.1195 - val_accuracy: 0.9656\n",
            "Epoch 47/200\n",
            "320/320 [==============================] - 32s 99ms/step - loss: 0.0086 - accuracy: 0.9971 - val_loss: 0.0688 - val_accuracy: 0.9797\n",
            "Epoch 48/200\n",
            "320/320 [==============================] - 32s 99ms/step - loss: 0.0244 - accuracy: 0.9924 - val_loss: 0.1495 - val_accuracy: 0.9531\n",
            "Epoch 49/200\n",
            "320/320 [==============================] - 32s 100ms/step - loss: 0.0286 - accuracy: 0.9906 - val_loss: 0.0519 - val_accuracy: 0.9844\n",
            "Epoch 50/200\n",
            "320/320 [==============================] - 32s 99ms/step - loss: 0.0068 - accuracy: 0.9980 - val_loss: 0.0311 - val_accuracy: 0.9914\n",
            "Epoch 51/200\n",
            "320/320 [==============================] - 32s 99ms/step - loss: 0.0173 - accuracy: 0.9951 - val_loss: 0.1411 - val_accuracy: 0.9695\n",
            "Epoch 52/200\n",
            "320/320 [==============================] - 32s 98ms/step - loss: 0.0232 - accuracy: 0.9920 - val_loss: 0.2410 - val_accuracy: 0.9422\n",
            "Epoch 53/200\n",
            "320/320 [==============================] - 32s 99ms/step - loss: 0.0173 - accuracy: 0.9953 - val_loss: 0.1405 - val_accuracy: 0.9641\n",
            "Epoch 54/200\n",
            "320/320 [==============================] - 32s 99ms/step - loss: 0.0138 - accuracy: 0.9963 - val_loss: 0.0631 - val_accuracy: 0.9781\n",
            "Epoch 55/200\n",
            "320/320 [==============================] - 32s 99ms/step - loss: 0.0121 - accuracy: 0.9955 - val_loss: 0.0632 - val_accuracy: 0.9773\n",
            "Epoch 56/200\n",
            "320/320 [==============================] - 32s 99ms/step - loss: 0.0268 - accuracy: 0.9910 - val_loss: 0.0512 - val_accuracy: 0.9797\n",
            "Epoch 57/200\n",
            "320/320 [==============================] - 32s 99ms/step - loss: 0.0335 - accuracy: 0.9896 - val_loss: 0.1943 - val_accuracy: 0.9438\n",
            "Epoch 58/200\n",
            "320/320 [==============================] - 32s 100ms/step - loss: 0.0081 - accuracy: 0.9975 - val_loss: 0.0196 - val_accuracy: 0.9953\n",
            "Epoch 59/200\n",
            "320/320 [==============================] - 32s 99ms/step - loss: 0.0086 - accuracy: 0.9982 - val_loss: 0.0379 - val_accuracy: 0.9867\n",
            "Epoch 60/200\n",
            "320/320 [==============================] - 32s 99ms/step - loss: 0.0134 - accuracy: 0.9953 - val_loss: 0.0545 - val_accuracy: 0.9852\n",
            "Epoch 61/200\n",
            "320/320 [==============================] - 32s 99ms/step - loss: 0.0055 - accuracy: 0.9977 - val_loss: 0.4499 - val_accuracy: 0.8953\n",
            "Epoch 62/200\n",
            "320/320 [==============================] - 32s 100ms/step - loss: 0.0172 - accuracy: 0.9936 - val_loss: 0.0317 - val_accuracy: 0.9898\n",
            "Epoch 63/200\n",
            "320/320 [==============================] - 32s 100ms/step - loss: 0.0038 - accuracy: 0.9988 - val_loss: 0.0808 - val_accuracy: 0.9742\n",
            "Epoch 64/200\n",
            "320/320 [==============================] - 32s 100ms/step - loss: 0.0530 - accuracy: 0.9848 - val_loss: 0.0837 - val_accuracy: 0.9758\n",
            "Epoch 65/200\n",
            "320/320 [==============================] - 32s 99ms/step - loss: 0.0061 - accuracy: 0.9988 - val_loss: 0.0446 - val_accuracy: 0.9852\n",
            "Epoch 66/200\n",
            "320/320 [==============================] - 32s 100ms/step - loss: 0.0140 - accuracy: 0.9967 - val_loss: 0.1199 - val_accuracy: 0.9648\n",
            "Epoch 67/200\n",
            "320/320 [==============================] - 32s 100ms/step - loss: 0.0236 - accuracy: 0.9926 - val_loss: 0.1503 - val_accuracy: 0.9578\n",
            "Epoch 68/200\n",
            "320/320 [==============================] - 32s 100ms/step - loss: 0.0159 - accuracy: 0.9957 - val_loss: 0.1891 - val_accuracy: 0.9492\n",
            "Epoch 69/200\n",
            "320/320 [==============================] - 32s 100ms/step - loss: 0.0142 - accuracy: 0.9951 - val_loss: 0.0317 - val_accuracy: 0.9875\n",
            "Epoch 70/200\n",
            "320/320 [==============================] - 32s 101ms/step - loss: 0.0049 - accuracy: 0.9988 - val_loss: 0.0232 - val_accuracy: 0.9930\n",
            "Epoch 71/200\n",
            "320/320 [==============================] - 32s 101ms/step - loss: 0.0019 - accuracy: 0.9992 - val_loss: 0.0599 - val_accuracy: 0.9852\n",
            "Epoch 72/200\n",
            "320/320 [==============================] - 32s 101ms/step - loss: 0.0111 - accuracy: 0.9961 - val_loss: 0.1181 - val_accuracy: 0.9602\n",
            "Epoch 73/200\n",
            "320/320 [==============================] - 32s 100ms/step - loss: 0.0282 - accuracy: 0.9906 - val_loss: 0.0309 - val_accuracy: 0.9898\n",
            "Epoch 74/200\n",
            "320/320 [==============================] - 32s 101ms/step - loss: 0.0054 - accuracy: 0.9986 - val_loss: 0.0988 - val_accuracy: 0.9703\n",
            "Epoch 75/200\n",
            "320/320 [==============================] - 32s 101ms/step - loss: 0.0064 - accuracy: 0.9977 - val_loss: 0.0358 - val_accuracy: 0.9883\n",
            "Epoch 76/200\n",
            "320/320 [==============================] - 32s 100ms/step - loss: 9.8567e-04 - accuracy: 0.9998 - val_loss: 0.0249 - val_accuracy: 0.9937\n",
            "Epoch 77/200\n",
            "320/320 [==============================] - 32s 99ms/step - loss: 0.0144 - accuracy: 0.9965 - val_loss: 0.4553 - val_accuracy: 0.8695\n",
            "Epoch 78/200\n",
            "320/320 [==============================] - 32s 99ms/step - loss: 0.0219 - accuracy: 0.9924 - val_loss: 0.0671 - val_accuracy: 0.9766\n",
            "Epoch 79/200\n",
            "320/320 [==============================] - 32s 99ms/step - loss: 0.0034 - accuracy: 0.9996 - val_loss: 0.0323 - val_accuracy: 0.9891\n",
            "Epoch 80/200\n",
            "320/320 [==============================] - 32s 99ms/step - loss: 0.0285 - accuracy: 0.9916 - val_loss: 0.1358 - val_accuracy: 0.9586\n",
            "Epoch 81/200\n",
            "320/320 [==============================] - 32s 99ms/step - loss: 0.0130 - accuracy: 0.9951 - val_loss: 0.0710 - val_accuracy: 0.9781\n",
            "Epoch 82/200\n",
            "320/320 [==============================] - 32s 100ms/step - loss: 0.0280 - accuracy: 0.9922 - val_loss: 0.0561 - val_accuracy: 0.9812\n",
            "Epoch 83/200\n",
            "320/320 [==============================] - 32s 100ms/step - loss: 0.0086 - accuracy: 0.9967 - val_loss: 0.0433 - val_accuracy: 0.9867\n",
            "Epoch 84/200\n",
            "320/320 [==============================] - 32s 99ms/step - loss: 0.0012 - accuracy: 0.9998 - val_loss: 0.0338 - val_accuracy: 0.9906\n",
            "Epoch 85/200\n",
            "320/320 [==============================] - 32s 99ms/step - loss: 0.0028 - accuracy: 0.9986 - val_loss: 0.0426 - val_accuracy: 0.9891\n",
            "Epoch 86/200\n",
            "320/320 [==============================] - 32s 99ms/step - loss: 0.0069 - accuracy: 0.9984 - val_loss: 0.0702 - val_accuracy: 0.9773\n",
            "Epoch 87/200\n",
            "320/320 [==============================] - 32s 99ms/step - loss: 0.0247 - accuracy: 0.9924 - val_loss: 0.0378 - val_accuracy: 0.9859\n",
            "Epoch 88/200\n",
            "320/320 [==============================] - 32s 99ms/step - loss: 0.0012 - accuracy: 0.9998 - val_loss: 0.0203 - val_accuracy: 0.9922\n",
            "Epoch 89/200\n",
            "320/320 [==============================] - 32s 99ms/step - loss: 0.0065 - accuracy: 0.9979 - val_loss: 0.0331 - val_accuracy: 0.9852\n",
            "Epoch 90/200\n",
            "320/320 [==============================] - 32s 99ms/step - loss: 0.0249 - accuracy: 0.9916 - val_loss: 0.0480 - val_accuracy: 0.9852\n",
            "Epoch 91/200\n",
            "320/320 [==============================] - 32s 100ms/step - loss: 0.0043 - accuracy: 0.9979 - val_loss: 0.0437 - val_accuracy: 0.9867\n",
            "Epoch 92/200\n",
            "320/320 [==============================] - 32s 99ms/step - loss: 0.0127 - accuracy: 0.9965 - val_loss: 0.0283 - val_accuracy: 0.9922\n",
            "Epoch 93/200\n",
            "320/320 [==============================] - 32s 99ms/step - loss: 0.0063 - accuracy: 0.9984 - val_loss: 0.0396 - val_accuracy: 0.9875\n",
            "Epoch 94/200\n",
            "320/320 [==============================] - 32s 99ms/step - loss: 9.1558e-04 - accuracy: 0.9998 - val_loss: 0.0275 - val_accuracy: 0.9914\n",
            "Epoch 95/200\n",
            "320/320 [==============================] - 32s 99ms/step - loss: 2.8765e-04 - accuracy: 1.0000 - val_loss: 0.0194 - val_accuracy: 0.9945\n",
            "Epoch 96/200\n",
            "320/320 [==============================] - 32s 99ms/step - loss: 0.0375 - accuracy: 0.9883 - val_loss: 0.2991 - val_accuracy: 0.9211\n",
            "Epoch 97/200\n",
            "320/320 [==============================] - 32s 99ms/step - loss: 0.0183 - accuracy: 0.9934 - val_loss: 0.0396 - val_accuracy: 0.9883\n",
            "Epoch 98/200\n",
            "320/320 [==============================] - 32s 100ms/step - loss: 0.0049 - accuracy: 0.9986 - val_loss: 0.0426 - val_accuracy: 0.9852\n",
            "Epoch 99/200\n",
            "320/320 [==============================] - 32s 100ms/step - loss: 0.0063 - accuracy: 0.9980 - val_loss: 0.0597 - val_accuracy: 0.9867\n",
            "Epoch 100/200\n",
            "320/320 [==============================] - 32s 99ms/step - loss: 0.0034 - accuracy: 0.9992 - val_loss: 0.0442 - val_accuracy: 0.9891\n",
            "Epoch 101/200\n",
            "320/320 [==============================] - 32s 99ms/step - loss: 0.0019 - accuracy: 0.9992 - val_loss: 0.0393 - val_accuracy: 0.9875\n",
            "Epoch 102/200\n",
            "320/320 [==============================] - 32s 100ms/step - loss: 0.0017 - accuracy: 0.9996 - val_loss: 0.0216 - val_accuracy: 0.9930\n",
            "Epoch 103/200\n",
            "320/320 [==============================] - 32s 100ms/step - loss: 2.1200e-04 - accuracy: 1.0000 - val_loss: 0.0221 - val_accuracy: 0.9945\n",
            "Epoch 104/200\n",
            "320/320 [==============================] - 32s 100ms/step - loss: 0.0313 - accuracy: 0.9908 - val_loss: 0.1452 - val_accuracy: 0.9477\n",
            "Epoch 105/200\n",
            "320/320 [==============================] - 32s 100ms/step - loss: 0.0092 - accuracy: 0.9973 - val_loss: 0.0413 - val_accuracy: 0.9891\n",
            "Epoch 106/200\n",
            "320/320 [==============================] - 32s 100ms/step - loss: 0.0044 - accuracy: 0.9986 - val_loss: 0.0306 - val_accuracy: 0.9883\n",
            "Epoch 107/200\n",
            "320/320 [==============================] - 32s 100ms/step - loss: 0.0012 - accuracy: 0.9996 - val_loss: 0.0228 - val_accuracy: 0.9945\n",
            "Epoch 108/200\n",
            "320/320 [==============================] - 32s 99ms/step - loss: 2.4837e-04 - accuracy: 1.0000 - val_loss: 0.0266 - val_accuracy: 0.9922\n",
            "Epoch 109/200\n",
            "320/320 [==============================] - 32s 100ms/step - loss: 0.0131 - accuracy: 0.9965 - val_loss: 0.2081 - val_accuracy: 0.9383\n",
            "Epoch 110/200\n",
            "320/320 [==============================] - 32s 100ms/step - loss: 0.0242 - accuracy: 0.9922 - val_loss: 0.0813 - val_accuracy: 0.9664\n",
            "Epoch 111/200\n",
            "320/320 [==============================] - 32s 100ms/step - loss: 0.0062 - accuracy: 0.9986 - val_loss: 0.0373 - val_accuracy: 0.9906\n",
            "Epoch 112/200\n",
            "320/320 [==============================] - 32s 100ms/step - loss: 0.0036 - accuracy: 0.9988 - val_loss: 0.0531 - val_accuracy: 0.9820\n",
            "Epoch 113/200\n",
            "320/320 [==============================] - 32s 100ms/step - loss: 0.0234 - accuracy: 0.9937 - val_loss: 0.1174 - val_accuracy: 0.9703\n",
            "Epoch 114/200\n",
            "320/320 [==============================] - 32s 100ms/step - loss: 0.0078 - accuracy: 0.9977 - val_loss: 0.0523 - val_accuracy: 0.9844\n",
            "Epoch 115/200\n",
            "320/320 [==============================] - 32s 100ms/step - loss: 0.0054 - accuracy: 0.9982 - val_loss: 0.0546 - val_accuracy: 0.9828\n",
            "Epoch 116/200\n",
            "320/320 [==============================] - 32s 100ms/step - loss: 0.0026 - accuracy: 0.9992 - val_loss: 0.0438 - val_accuracy: 0.9875\n",
            "Epoch 117/200\n",
            "320/320 [==============================] - 32s 99ms/step - loss: 0.0074 - accuracy: 0.9984 - val_loss: 0.0625 - val_accuracy: 0.9828\n",
            "Epoch 118/200\n",
            "320/320 [==============================] - 32s 100ms/step - loss: 0.0094 - accuracy: 0.9957 - val_loss: 0.0584 - val_accuracy: 0.9781\n",
            "Epoch 119/200\n",
            "320/320 [==============================] - 32s 99ms/step - loss: 0.0148 - accuracy: 0.9953 - val_loss: 0.0466 - val_accuracy: 0.9844\n",
            "Epoch 120/200\n",
            "320/320 [==============================] - 32s 99ms/step - loss: 0.0082 - accuracy: 0.9971 - val_loss: 0.0590 - val_accuracy: 0.9773\n",
            "Epoch 121/200\n",
            "320/320 [==============================] - 32s 100ms/step - loss: 0.0036 - accuracy: 0.9986 - val_loss: 0.0425 - val_accuracy: 0.9875\n",
            "Epoch 122/200\n",
            "320/320 [==============================] - 32s 100ms/step - loss: 4.4973e-04 - accuracy: 1.0000 - val_loss: 0.0422 - val_accuracy: 0.9883\n",
            "Epoch 123/200\n",
            "320/320 [==============================] - 32s 100ms/step - loss: 0.0018 - accuracy: 0.9994 - val_loss: 0.0741 - val_accuracy: 0.9773\n",
            "Epoch 124/200\n",
            "320/320 [==============================] - 32s 100ms/step - loss: 0.0159 - accuracy: 0.9959 - val_loss: 0.0818 - val_accuracy: 0.9750\n",
            "Epoch 125/200\n",
            "320/320 [==============================] - 32s 100ms/step - loss: 0.0087 - accuracy: 0.9967 - val_loss: 0.0970 - val_accuracy: 0.9711\n",
            "Epoch 126/200\n",
            "320/320 [==============================] - 32s 100ms/step - loss: 0.0171 - accuracy: 0.9965 - val_loss: 0.0347 - val_accuracy: 0.9859\n",
            "Epoch 127/200\n",
            "320/320 [==============================] - 32s 100ms/step - loss: 6.3710e-04 - accuracy: 1.0000 - val_loss: 0.0242 - val_accuracy: 0.9906\n",
            "Epoch 128/200\n",
            "320/320 [==============================] - 32s 101ms/step - loss: 2.4138e-04 - accuracy: 1.0000 - val_loss: 0.0240 - val_accuracy: 0.9914\n",
            "Epoch 129/200\n",
            "320/320 [==============================] - 32s 101ms/step - loss: 0.0206 - accuracy: 0.9936 - val_loss: 0.1212 - val_accuracy: 0.9633\n",
            "Epoch 130/200\n",
            "320/320 [==============================] - 32s 101ms/step - loss: 0.0085 - accuracy: 0.9977 - val_loss: 0.0370 - val_accuracy: 0.9875\n",
            "Epoch 131/200\n",
            "320/320 [==============================] - 32s 101ms/step - loss: 0.0014 - accuracy: 0.9996 - val_loss: 0.0493 - val_accuracy: 0.9891\n",
            "Epoch 132/200\n",
            "320/320 [==============================] - 32s 101ms/step - loss: 0.0026 - accuracy: 0.9992 - val_loss: 0.0231 - val_accuracy: 0.9922\n",
            "Epoch 133/200\n",
            "320/320 [==============================] - 32s 99ms/step - loss: 0.0113 - accuracy: 0.9963 - val_loss: 0.0893 - val_accuracy: 0.9672\n",
            "Epoch 134/200\n",
            "320/320 [==============================] - 32s 100ms/step - loss: 0.0083 - accuracy: 0.9975 - val_loss: 0.0466 - val_accuracy: 0.9844\n",
            "Epoch 135/200\n",
            "320/320 [==============================] - 32s 99ms/step - loss: 0.0011 - accuracy: 0.9996 - val_loss: 0.0438 - val_accuracy: 0.9836\n",
            "Epoch 136/200\n",
            "320/320 [==============================] - 32s 99ms/step - loss: 0.0068 - accuracy: 0.9979 - val_loss: 0.3967 - val_accuracy: 0.9117\n",
            "Epoch 137/200\n",
            "320/320 [==============================] - 32s 99ms/step - loss: 0.0063 - accuracy: 0.9980 - val_loss: 0.0439 - val_accuracy: 0.9867\n",
            "Epoch 138/200\n",
            "320/320 [==============================] - 32s 99ms/step - loss: 0.0158 - accuracy: 0.9945 - val_loss: 0.1095 - val_accuracy: 0.9711\n",
            "Epoch 139/200\n",
            "320/320 [==============================] - 32s 100ms/step - loss: 0.0042 - accuracy: 0.9986 - val_loss: 0.0273 - val_accuracy: 0.9914\n",
            "Epoch 140/200\n",
            "320/320 [==============================] - 32s 99ms/step - loss: 0.0023 - accuracy: 0.9994 - val_loss: 0.0437 - val_accuracy: 0.9852\n",
            "Epoch 141/200\n",
            "320/320 [==============================] - 32s 100ms/step - loss: 0.0022 - accuracy: 0.9996 - val_loss: 0.0701 - val_accuracy: 0.9758\n",
            "Epoch 142/200\n",
            "320/320 [==============================] - 32s 99ms/step - loss: 0.0059 - accuracy: 0.9982 - val_loss: 0.1361 - val_accuracy: 0.9648\n",
            "Epoch 143/200\n",
            "320/320 [==============================] - 32s 100ms/step - loss: 0.0212 - accuracy: 0.9934 - val_loss: 0.1057 - val_accuracy: 0.9641\n",
            "Epoch 144/200\n",
            "320/320 [==============================] - 32s 99ms/step - loss: 0.0035 - accuracy: 0.9988 - val_loss: 0.0558 - val_accuracy: 0.9828\n",
            "Epoch 145/200\n",
            "320/320 [==============================] - 32s 100ms/step - loss: 0.0064 - accuracy: 0.9977 - val_loss: 0.4872 - val_accuracy: 0.8789\n",
            "Epoch 146/200\n",
            "320/320 [==============================] - 32s 99ms/step - loss: 0.0103 - accuracy: 0.9957 - val_loss: 0.0655 - val_accuracy: 0.9859\n",
            "Epoch 147/200\n",
            "320/320 [==============================] - 32s 99ms/step - loss: 0.0031 - accuracy: 0.9990 - val_loss: 0.0469 - val_accuracy: 0.9797\n",
            "Epoch 148/200\n",
            "320/320 [==============================] - 32s 100ms/step - loss: 0.0022 - accuracy: 0.9992 - val_loss: 0.0317 - val_accuracy: 0.9852\n",
            "Epoch 149/200\n",
            "320/320 [==============================] - 32s 100ms/step - loss: 0.0011 - accuracy: 0.9996 - val_loss: 0.0268 - val_accuracy: 0.9930\n",
            "Epoch 150/200\n",
            "320/320 [==============================] - 32s 100ms/step - loss: 5.2095e-04 - accuracy: 1.0000 - val_loss: 0.0381 - val_accuracy: 0.9867\n",
            "Epoch 151/200\n",
            "320/320 [==============================] - 32s 100ms/step - loss: 0.0169 - accuracy: 0.9941 - val_loss: 0.0661 - val_accuracy: 0.9758\n",
            "Epoch 152/200\n",
            "320/320 [==============================] - 32s 99ms/step - loss: 0.0078 - accuracy: 0.9967 - val_loss: 0.0364 - val_accuracy: 0.9891\n",
            "Epoch 153/200\n",
            "320/320 [==============================] - 32s 100ms/step - loss: 0.0017 - accuracy: 0.9998 - val_loss: 0.0379 - val_accuracy: 0.9906\n",
            "Epoch 154/200\n",
            "320/320 [==============================] - 32s 100ms/step - loss: 0.0036 - accuracy: 0.9988 - val_loss: 0.0449 - val_accuracy: 0.9875\n",
            "Epoch 155/200\n",
            "320/320 [==============================] - 32s 100ms/step - loss: 3.0963e-04 - accuracy: 1.0000 - val_loss: 0.0328 - val_accuracy: 0.9922\n",
            "Epoch 156/200\n",
            "320/320 [==============================] - 32s 100ms/step - loss: 1.1159e-04 - accuracy: 1.0000 - val_loss: 0.0328 - val_accuracy: 0.9930\n",
            "Epoch 157/200\n",
            "320/320 [==============================] - 32s 99ms/step - loss: 3.8173e-04 - accuracy: 0.9998 - val_loss: 0.1458 - val_accuracy: 0.9656\n",
            "Epoch 158/200\n",
            "320/320 [==============================] - 32s 100ms/step - loss: 0.0176 - accuracy: 0.9947 - val_loss: 0.0870 - val_accuracy: 0.9742\n",
            "Epoch 159/200\n",
            "320/320 [==============================] - 32s 100ms/step - loss: 0.0216 - accuracy: 0.9928 - val_loss: 0.0643 - val_accuracy: 0.9805\n",
            "Epoch 160/200\n",
            "320/320 [==============================] - 32s 100ms/step - loss: 0.0019 - accuracy: 0.9994 - val_loss: 0.0472 - val_accuracy: 0.9859\n",
            "Epoch 161/200\n",
            "320/320 [==============================] - 33s 102ms/step - loss: 6.8972e-04 - accuracy: 1.0000 - val_loss: 0.0453 - val_accuracy: 0.9875\n",
            "Epoch 162/200\n",
            "320/320 [==============================] - 32s 100ms/step - loss: 1.8087e-04 - accuracy: 1.0000 - val_loss: 0.0407 - val_accuracy: 0.9883\n",
            "Epoch 163/200\n",
            "320/320 [==============================] - 32s 100ms/step - loss: 2.5160e-04 - accuracy: 1.0000 - val_loss: 0.0323 - val_accuracy: 0.9906\n",
            "Epoch 164/200\n",
            "320/320 [==============================] - 32s 100ms/step - loss: 0.0011 - accuracy: 0.9996 - val_loss: 0.0333 - val_accuracy: 0.9891\n",
            "Epoch 165/200\n",
            "320/320 [==============================] - 32s 100ms/step - loss: 0.0177 - accuracy: 0.9955 - val_loss: 0.0996 - val_accuracy: 0.9648\n",
            "Epoch 166/200\n",
            "320/320 [==============================] - 32s 100ms/step - loss: 0.0070 - accuracy: 0.9977 - val_loss: 0.0385 - val_accuracy: 0.9914\n",
            "Epoch 167/200\n",
            "320/320 [==============================] - 32s 100ms/step - loss: 0.0070 - accuracy: 0.9980 - val_loss: 0.0890 - val_accuracy: 0.9727\n",
            "Epoch 168/200\n",
            "320/320 [==============================] - 32s 100ms/step - loss: 0.0016 - accuracy: 0.9996 - val_loss: 0.0468 - val_accuracy: 0.9883\n",
            "Epoch 169/200\n",
            "320/320 [==============================] - 32s 100ms/step - loss: 0.0098 - accuracy: 0.9963 - val_loss: 0.1123 - val_accuracy: 0.9727\n",
            "Epoch 170/200\n",
            "320/320 [==============================] - 32s 100ms/step - loss: 0.0046 - accuracy: 0.9980 - val_loss: 0.0357 - val_accuracy: 0.9914\n",
            "Epoch 171/200\n",
            "320/320 [==============================] - 32s 100ms/step - loss: 0.0014 - accuracy: 0.9994 - val_loss: 0.0424 - val_accuracy: 0.9867\n",
            "Epoch 172/200\n",
            "320/320 [==============================] - 32s 100ms/step - loss: 0.0039 - accuracy: 0.9988 - val_loss: 0.0577 - val_accuracy: 0.9883\n",
            "Epoch 173/200\n",
            "320/320 [==============================] - 32s 100ms/step - loss: 0.0050 - accuracy: 0.9984 - val_loss: 0.1024 - val_accuracy: 0.9766\n",
            "Epoch 174/200\n",
            "320/320 [==============================] - 32s 100ms/step - loss: 0.0231 - accuracy: 0.9934 - val_loss: 0.0910 - val_accuracy: 0.9781\n",
            "Epoch 175/200\n",
            "320/320 [==============================] - 32s 100ms/step - loss: 0.0031 - accuracy: 0.9994 - val_loss: 0.0352 - val_accuracy: 0.9922\n",
            "Epoch 176/200\n",
            "320/320 [==============================] - 32s 100ms/step - loss: 5.1476e-04 - accuracy: 1.0000 - val_loss: 0.0321 - val_accuracy: 0.9930\n",
            "Epoch 177/200\n",
            "320/320 [==============================] - 32s 100ms/step - loss: 4.3580e-04 - accuracy: 1.0000 - val_loss: 0.0240 - val_accuracy: 0.9953\n",
            "Epoch 178/200\n",
            "320/320 [==============================] - 32s 100ms/step - loss: 2.4308e-04 - accuracy: 1.0000 - val_loss: 0.0212 - val_accuracy: 0.9945\n",
            "Epoch 179/200\n",
            "320/320 [==============================] - 32s 100ms/step - loss: 7.2047e-05 - accuracy: 1.0000 - val_loss: 0.0212 - val_accuracy: 0.9961\n",
            "Epoch 180/200\n",
            "320/320 [==============================] - 32s 100ms/step - loss: 5.7072e-05 - accuracy: 1.0000 - val_loss: 0.0192 - val_accuracy: 0.9961\n",
            "Epoch 181/200\n",
            "320/320 [==============================] - 32s 101ms/step - loss: 7.7333e-05 - accuracy: 1.0000 - val_loss: 0.0205 - val_accuracy: 0.9961\n",
            "Epoch 182/200\n",
            "320/320 [==============================] - 32s 100ms/step - loss: 0.0372 - accuracy: 0.9893 - val_loss: 0.0736 - val_accuracy: 0.9766\n",
            "Epoch 183/200\n",
            "320/320 [==============================] - 32s 100ms/step - loss: 0.0074 - accuracy: 0.9980 - val_loss: 0.0318 - val_accuracy: 0.9875\n",
            "Epoch 184/200\n",
            "320/320 [==============================] - 32s 100ms/step - loss: 8.5211e-04 - accuracy: 0.9998 - val_loss: 0.0308 - val_accuracy: 0.9867\n",
            "Epoch 185/200\n",
            "320/320 [==============================] - 32s 100ms/step - loss: 3.1078e-04 - accuracy: 1.0000 - val_loss: 0.0248 - val_accuracy: 0.9906\n",
            "Epoch 186/200\n",
            "320/320 [==============================] - 32s 100ms/step - loss: 2.4718e-04 - accuracy: 1.0000 - val_loss: 0.0264 - val_accuracy: 0.9914\n",
            "Epoch 187/200\n",
            "320/320 [==============================] - 32s 100ms/step - loss: 2.6178e-04 - accuracy: 1.0000 - val_loss: 0.0328 - val_accuracy: 0.9898\n",
            "Epoch 188/200\n",
            "320/320 [==============================] - 32s 100ms/step - loss: 0.0027 - accuracy: 0.9990 - val_loss: 0.0510 - val_accuracy: 0.9844\n",
            "Epoch 189/200\n",
            "320/320 [==============================] - 32s 100ms/step - loss: 0.0304 - accuracy: 0.9926 - val_loss: 0.0602 - val_accuracy: 0.9820\n",
            "Epoch 190/200\n",
            "320/320 [==============================] - 32s 101ms/step - loss: 0.0092 - accuracy: 0.9975 - val_loss: 0.0631 - val_accuracy: 0.9859\n",
            "Epoch 191/200\n",
            "320/320 [==============================] - 32s 100ms/step - loss: 0.0034 - accuracy: 0.9990 - val_loss: 0.0555 - val_accuracy: 0.9883\n",
            "Epoch 192/200\n",
            "320/320 [==============================] - 32s 100ms/step - loss: 0.0011 - accuracy: 0.9994 - val_loss: 0.0449 - val_accuracy: 0.9891\n",
            "Epoch 193/200\n",
            "320/320 [==============================] - 32s 100ms/step - loss: 4.8502e-04 - accuracy: 1.0000 - val_loss: 0.0436 - val_accuracy: 0.9867\n",
            "Epoch 194/200\n",
            "320/320 [==============================] - 32s 100ms/step - loss: 3.1844e-04 - accuracy: 1.0000 - val_loss: 0.0429 - val_accuracy: 0.9867\n",
            "Epoch 195/200\n",
            "320/320 [==============================] - 32s 100ms/step - loss: 1.6298e-04 - accuracy: 1.0000 - val_loss: 0.0471 - val_accuracy: 0.9867\n",
            "Epoch 196/200\n",
            "320/320 [==============================] - 32s 100ms/step - loss: 5.1238e-05 - accuracy: 1.0000 - val_loss: 0.0479 - val_accuracy: 0.9867\n",
            "Epoch 197/200\n",
            "320/320 [==============================] - 32s 101ms/step - loss: 1.1432e-04 - accuracy: 1.0000 - val_loss: 0.0575 - val_accuracy: 0.9867\n",
            "Epoch 198/200\n",
            "320/320 [==============================] - 32s 101ms/step - loss: 8.6508e-05 - accuracy: 1.0000 - val_loss: 0.0393 - val_accuracy: 0.9906\n",
            "Epoch 199/200\n",
            "320/320 [==============================] - 32s 100ms/step - loss: 0.0056 - accuracy: 0.9992 - val_loss: 1.0581 - val_accuracy: 0.8195\n",
            "Epoch 200/200\n",
            "320/320 [==============================] - 32s 101ms/step - loss: 0.0299 - accuracy: 0.9896 - val_loss: 0.0687 - val_accuracy: 0.9797\n"
          ]
        }
      ],
      "source": [
        "epochs = 200\n",
        "history = model.fit(train_data,\n",
        "                    epochs=epochs,\n",
        "                    validation_data=val_data, \n",
        "                    batch_size=batch_size)"
      ]
    },
    {
      "cell_type": "code",
      "execution_count": 14,
      "metadata": {
        "id": "hMdHptg8wQZr",
        "colab": {
          "base_uri": "https://localhost:8080/",
          "height": 483
        },
        "outputId": "bda72b8d-e932-4a3b-f9f2-b3d5f47ca236"
      },
      "outputs": [
        {
          "output_type": "display_data",
          "data": {
            "text/plain": [
              "<Figure size 576x576 with 2 Axes>"
            ],
            "image/png": "[encoded data removed]"
          },
          "metadata": {
            "needs_background": "light"
          }
        }
      ],
      "source": [
        "acc = history.history['accuracy']\n",
        "val_acc =  history.history['val_accuracy']\n",
        "\n",
        "loss = history.history['loss']\n",
        "val_loss = history.history['val_loss']\n",
        "\n",
        "epochs_range = range(epochs)\n",
        "\n",
        "plt.figure(figsize=(8,8))\n",
        "plt.subplot(1,2,1)\n",
        "plt.plot(epochs_range,acc,label='Accuracy')\n",
        "plt.plot(epochs_range,val_acc,label=\"Validation Accuracy\")\n",
        "plt.legend()\n",
        "\n",
        "plt.subplot(1,2,2)\n",
        "plt.plot(epochs_range,loss,label='Loss')\n",
        "plt.plot(epochs_range,val_loss,label=\"Validation Loss\")\n",
        "plt.legend()\n",
        "plt.show()"
      ]
    },
    {
      "cell_type": "code",
      "source": [
        "from google.colab import drive\n",
        "drive.mount('/content/drive')"
      ],
      "metadata": {
        "colab": {
          "base_uri": "https://localhost:8080/"
        },
        "id": "oa4JPbXyL5S8",
        "outputId": "f60f46dd-68bc-4dcc-960d-8b0c6129697a"
      },
      "execution_count": 15,
      "outputs": [
        {
          "output_type": "stream",
          "name": "stdout",
          "text": [
            "Mounted at /content/drive\n"
          ]
        }
      ]
    },
    {
      "cell_type": "code",
      "source": [
        "model.save('/content/drive/MyDrive/classificador/class_alzheimer')"
      ],
      "metadata": {
        "colab": {
          "base_uri": "https://localhost:8080/"
        },
        "id": "L13JeqDBLscu",
        "outputId": "1b936bdc-72f4-410a-a466-ebab6c6fb434"
      },
      "execution_count": 16,
      "outputs": [
        {
          "output_type": "stream",
          "name": "stdout",
          "text": [
            "INFO:tensorflow:Assets written to: /content/drive/MyDrive/classificador/class_alzheimer/assets\n"
          ]
        }
      ]
    }
  ],
  "metadata": {
    "accelerator": "GPU",
    "colab": {
      "name": "class_alzheimer",
      "provenance": [],
      "authorship_tag": "ABX9TyPqjxQ5eB+1+yw2u5o/TbSY",
      "include_colab_link": true
    },
    "kernelspec": {
      "display_name": "Python 3",
      "name": "python3"
    },
    "language_info": {
      "name": "python"
    }
  },
  "nbformat": 4,
  "nbformat_minor": 0
}